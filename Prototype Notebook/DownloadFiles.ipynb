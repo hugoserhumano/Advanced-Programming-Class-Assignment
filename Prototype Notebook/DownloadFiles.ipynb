{
 "cells": [
  {
   "cell_type": "code",
   "execution_count": 5,
   "metadata": {},
   "outputs": [],
   "source": [
    "from urllib.request import urlretrieve\n",
    "import os\n",
    "import urllib.request\n",
    "\n",
    "def download_zip_file(file_link: str, output_file: str='file.csv'):\n",
    "        \"\"\"\n",
    "        Downloads a zip file from a link and saves it to the downloads folder.\n",
    "    \n",
    "        Parameters\n",
    "        ----------\n",
    "        file_link : str\n",
    "            The link to the file to be downloaded.\n",
    "        output_file : str\n",
    "            A string containing the name of the file to be saved.\n",
    "        \n",
    "        Returns\n",
    "        -------\n",
    "        nothing\n",
    "        \"\"\"\n",
    "    \n",
    "        if not os.path.exists(\"downloads\"):\n",
    "            os.makedirs(\"downloads\")\n",
    "    \n",
    "        try:\n",
    "            if not os.path.exists(output_file):\n",
    "                req = urllib.request.Request(\n",
    "                    file_link,\n",
    "                    data=None,\n",
    "                    headers={\n",
    "                        'User-Agent': 'Mozilla/5.0 (Windows NT 10.0; Win64; x64) AppleWebKit/537.36 (KHTML, like Gecko) Chrome/58.0.3029.110 Safari/537.36'\n",
    "                    }\n",
    "                )\n",
    "                with urllib.request.urlopen(req) as response, open(output_file, 'wb') as out_file:\n",
    "                    out_file.write(response.read())\n",
    "                print(\"File downloaded successfully\")\n",
    "            else:\n",
    "                print(\"File already exists, skipping download\")\n",
    "        except Exception as e:\n",
    "            print(f\"Error downloading file: {e}\")"
   ]
  },
  {
   "cell_type": "code",
   "execution_count": null,
   "metadata": {},
   "outputs": [],
   "source": []
  }
 ],
 "metadata": {
  "kernelspec": {
   "display_name": "adpro",
   "language": "python",
   "name": "adpro"
  },
  "language_info": {
   "codemirror_mode": {
    "name": "ipython",
    "version": 3
   },
   "file_extension": ".py",
   "mimetype": "text/x-python",
   "name": "python",
   "nbconvert_exporter": "python",
   "pygments_lexer": "ipython3",
   "version": "3.9.16"
  },
  "orig_nbformat": 4
 },
 "nbformat": 4,
 "nbformat_minor": 2
}
